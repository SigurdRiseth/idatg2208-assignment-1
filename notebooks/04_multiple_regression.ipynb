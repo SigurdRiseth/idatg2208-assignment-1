{
 "cells": [
  {
   "cell_type": "markdown",
   "id": "36f1a134",
   "metadata": {},
   "source": [
    "# Multiple Variable Regression\n",
    "\n",
    "The task is to train a multiple linear regression model using all features to predict quality using the same splits as used in previous question. Evaluate the model on the test set using MSE, RMSE, and R2.\n",
    "\n",
    "First, we need to load the data into the seam splits as in the previous notebook.\n"
   ]
  },
  {
   "cell_type": "code",
   "execution_count": 15,
   "id": "c817fbfd",
   "metadata": {},
   "outputs": [],
   "source": [
    "import pandas as pd\n",
    "from sklearn.model_selection import KFold\n",
    "\n",
    "# Load the dataset\n",
    "df = pd.read_pickle(\"../data/winequality.pkl\")\n",
    "\n",
    "# Initialize KFold\n",
    "kf = KFold(n_splits=5, shuffle=True, random_state=42)"
   ]
  },
  {
   "cell_type": "markdown",
   "id": "5cc7133e",
   "metadata": {},
   "source": [
    "### Multiple Linear Regression with Cross-Validation\n",
    "\n",
    "In this section, we train a multiple linear regression model using all available features to predict wine quality. We use 5-fold cross-validation to evaluate the model's performance, ensuring that our results are robust and not dependent on a particular train-test split. For each fold, we compute the Mean Squared Error (MSE), Root Mean Squared Error (RMSE), and R-squared (R2) score. Finally, we aggregate these metrics across all folds to summarize the model's overall performance."
   ]
  },
  {
   "cell_type": "code",
   "execution_count": 16,
   "id": "68514184",
   "metadata": {},
   "outputs": [
    {
     "name": "stdout",
     "output_type": "stream",
     "text": [
      "Fold 1: R2 = 0.3128, MSE = 0.3824, RMSE = 0.6184\n",
      "Fold 2: R2 = 0.3434, MSE = 0.4836, RMSE = 0.6954\n",
      "Fold 3: R2 = 0.3625, MSE = 0.4320, RMSE = 0.6573\n",
      "Fold 4: R2 = 0.4000, MSE = 0.4095, RMSE = 0.6400\n",
      "Fold 5: R2 = 0.3580, MSE = 0.3776, RMSE = 0.6145\n",
      "\n",
      "Cross-validation results (aggregated):\n"
     ]
    },
    {
     "data": {
      "text/html": [
       "<div>\n",
       "<style scoped>\n",
       "    .dataframe tbody tr th:only-of-type {\n",
       "        vertical-align: middle;\n",
       "    }\n",
       "\n",
       "    .dataframe tbody tr th {\n",
       "        vertical-align: top;\n",
       "    }\n",
       "\n",
       "    .dataframe thead th {\n",
       "        text-align: right;\n",
       "    }\n",
       "</style>\n",
       "<table border=\"1\" class=\"dataframe\">\n",
       "  <thead>\n",
       "    <tr style=\"text-align: right;\">\n",
       "      <th></th>\n",
       "      <th>Metric</th>\n",
       "      <th>Mean</th>\n",
       "      <th>Variance</th>\n",
       "    </tr>\n",
       "  </thead>\n",
       "  <tbody>\n",
       "    <tr>\n",
       "      <th>0</th>\n",
       "      <td>MSE</td>\n",
       "      <td>0.417039</td>\n",
       "      <td>0.001491</td>\n",
       "    </tr>\n",
       "    <tr>\n",
       "      <th>1</th>\n",
       "      <td>RMSE</td>\n",
       "      <td>0.645112</td>\n",
       "      <td>0.000870</td>\n",
       "    </tr>\n",
       "    <tr>\n",
       "      <th>2</th>\n",
       "      <td>R2</td>\n",
       "      <td>0.355326</td>\n",
       "      <td>0.000802</td>\n",
       "    </tr>\n",
       "  </tbody>\n",
       "</table>\n",
       "</div>"
      ],
      "text/plain": [
       "  Metric      Mean  Variance\n",
       "0    MSE  0.417039  0.001491\n",
       "1   RMSE  0.645112  0.000870\n",
       "2     R2  0.355326  0.000802"
      ]
     },
     "execution_count": 16,
     "metadata": {},
     "output_type": "execute_result"
    }
   ],
   "source": [
    "from sklearn.linear_model import LinearRegression\n",
    "from sklearn.metrics import mean_squared_error, r2_score\n",
    "import numpy as np\n",
    "import pandas as pd\n",
    "\n",
    "# Initialize the model\n",
    "lin_reg = LinearRegression()\n",
    "\n",
    "# Prepare features and target variable\n",
    "X = df.drop(columns=[\"quality\"])\n",
    "y = df[\"quality\"]\n",
    "\n",
    "# Store results\n",
    "mse_list, rmse_list, r2_list = [], [], []\n",
    "\n",
    "# Perform K-Fold Cross-Validation\n",
    "for fold, (train_index, test_index) in enumerate(kf.split(X)):\n",
    "    X_train, X_test = X.iloc[train_index], X.iloc[test_index]\n",
    "    y_train, y_test = y.iloc[train_index], y.iloc[test_index]\n",
    "\n",
    "    lin_reg.fit(X_train, y_train)\n",
    "    y_pred = lin_reg.predict(X_test)\n",
    "\n",
    "    mse = mean_squared_error(y_test, y_pred)\n",
    "    rmse = np.sqrt(mse)\n",
    "    r2 = r2_score(y_test, y_pred)\n",
    "\n",
    "    mse_list.append(mse)\n",
    "    rmse_list.append(rmse)\n",
    "    r2_list.append(r2)\n",
    "\n",
    "    print(f\"Fold {fold+1}: R2 = {r2:.4f}, MSE = {mse:.4f}, RMSE = {rmse:.4f}\")\n",
    "\n",
    "# Aggregate results and save to CSV\n",
    "results = pd.DataFrame({\n",
    "    \"Metric\": [\"MSE\", \"RMSE\", \"R2\"],\n",
    "    \"Mean\": [np.mean(mse_list), np.mean(rmse_list), np.mean(r2_list)],\n",
    "    \"Variance\": [np.var(mse_list), np.var(rmse_list), np.var(r2_list)]\n",
    "})\n",
    "results.to_csv(\"../reports/tables/cross_validation_results.csv\", index=False)\n",
    "\n",
    "print(\"\\nCross-validation results (aggregated):\")\n",
    "results"
   ]
  },
  {
   "cell_type": "markdown",
   "id": "3021c1a0",
   "metadata": {},
   "source": [
    "### Comparison of Multiple vs. Single Linear Regression\n",
    "\n"
   ]
  }
 ],
 "metadata": {
  "kernelspec": {
   "display_name": "Python 3",
   "language": "python",
   "name": "python3"
  },
  "language_info": {
   "codemirror_mode": {
    "name": "ipython",
    "version": 3
   },
   "file_extension": ".py",
   "mimetype": "text/x-python",
   "name": "python",
   "nbconvert_exporter": "python",
   "pygments_lexer": "ipython3",
   "version": "3.10.7"
  }
 },
 "nbformat": 4,
 "nbformat_minor": 5
}
