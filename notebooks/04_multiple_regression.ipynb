{
 "cells": [
  {
   "cell_type": "markdown",
   "id": "36f1a134",
   "metadata": {},
   "source": [
    "# Multiple Variable Regression\n",
    "\n",
    "The task is to train a multiple linear regression model using all features to predict quality using the same splits as used in previous question. Evaluate the model on the test set using MSE, RMSE, and R2.\n",
    "\n",
    "First, we need to load the data into the seam splits as in the previous notebook.\n"
   ]
  },
  {
   "cell_type": "code",
   "execution_count": null,
   "id": "c817fbfd",
   "metadata": {},
   "outputs": [],
   "source": [
    "import pandas as pd\n",
    "from sklearn.model_selection import KFold\n",
    "\n",
    "# Load the dataset\n",
    "df = pd.read_pickle(\"../data/winequality.pkl\")\n",
    "\n",
    "# Initialize KFold\n",
    "kf = KFold(n_splits=5, shuffle=True, random_state=42)"
   ]
  }
 ],
 "metadata": {
  "kernelspec": {
   "display_name": "Python 3",
   "language": "python",
   "name": "python3"
  },
  "language_info": {
   "name": "python",
   "version": "3.10.7"
  }
 },
 "nbformat": 4,
 "nbformat_minor": 5
}
