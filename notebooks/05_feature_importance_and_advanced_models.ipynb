{
 "cells": [
  {
   "cell_type": "markdown",
   "id": "be31d0d6",
   "metadata": {},
   "source": [
    "# Feature Importance and Advanced Models"
   ]
  },
  {
   "cell_type": "markdown",
   "id": "895b1f00",
   "metadata": {},
   "source": [
    "## Polynomial Regression\n",
    "\n",
    "We are now extending the feature space to include quadratic and/or interaction terms to see if it improves the performance.\n",
    "\n",
    "First, we load the dataset and initialize the KFold cross-validation."
   ]
  },
  {
   "cell_type": "code",
   "execution_count": 14,
   "id": "3e265344",
   "metadata": {},
   "outputs": [],
   "source": [
    "import pandas as pd\n",
    "from sklearn.model_selection import KFold\n",
    "\n",
    "# Load the dataset\n",
    "df = pd.read_pickle(\"../data/winequality.pkl\")\n",
    "\n",
    "# Initialize KFold\n",
    "kf = KFold(n_splits=5, shuffle=True, random_state=42)"
   ]
  },
  {
   "cell_type": "markdown",
   "id": "602da3b7",
   "metadata": {},
   "source": [
    "Then, we need to preprocess the data to include polynomial features. We can use `PolynomialFeatures` from `sklearn.preprocessing` for this purpose."
   ]
  },
  {
   "cell_type": "code",
   "execution_count": 15,
   "id": "6f31e7cb",
   "metadata": {},
   "outputs": [],
   "source": [
    "from sklearn.preprocessing import PolynomialFeatures\n",
    "\n",
    "# Create polynomial features\n",
    "poly = PolynomialFeatures(degree=2, include_bias=False)\n",
    "X_poly = poly.fit_transform(df.drop(columns=[\"quality\"]))\n",
    "y = df[\"quality\"]"
   ]
  },
  {
   "cell_type": "markdown",
   "id": "774b3db7",
   "metadata": {},
   "source": [
    "Now, we initialize the linear regression model and perform the k-fold cross-validation to evaluate its performance."
   ]
  },
  {
   "cell_type": "code",
   "execution_count": 16,
   "id": "95269e81",
   "metadata": {},
   "outputs": [
    {
     "name": "stdout",
     "output_type": "stream",
     "text": [
      "Fold 1: R2 = 0.2809, MSE = 0.4002, RMSE = 0.6326\n",
      "Fold 2: R2 = 0.3375, MSE = 0.4879, RMSE = 0.6985\n",
      "Fold 3: R2 = 0.3017, MSE = 0.4732, RMSE = 0.6879\n",
      "Fold 4: R2 = 0.4021, MSE = 0.4081, RMSE = 0.6388\n",
      "Fold 5: R2 = 0.1598, MSE = 0.4942, RMSE = 0.7030\n",
      "\n",
      "Cross-validation results (aggregated):\n"
     ]
    },
    {
     "data": {
      "text/html": [
       "<div>\n",
       "<style scoped>\n",
       "    .dataframe tbody tr th:only-of-type {\n",
       "        vertical-align: middle;\n",
       "    }\n",
       "\n",
       "    .dataframe tbody tr th {\n",
       "        vertical-align: top;\n",
       "    }\n",
       "\n",
       "    .dataframe thead th {\n",
       "        text-align: right;\n",
       "    }\n",
       "</style>\n",
       "<table border=\"1\" class=\"dataframe\">\n",
       "  <thead>\n",
       "    <tr style=\"text-align: right;\">\n",
       "      <th></th>\n",
       "      <th>Metric</th>\n",
       "      <th>Mean</th>\n",
       "      <th>Variance</th>\n",
       "    </tr>\n",
       "  </thead>\n",
       "  <tbody>\n",
       "    <tr>\n",
       "      <th>0</th>\n",
       "      <td>MSE</td>\n",
       "      <td>0.452719</td>\n",
       "      <td>0.001627</td>\n",
       "    </tr>\n",
       "    <tr>\n",
       "      <th>1</th>\n",
       "      <td>RMSE</td>\n",
       "      <td>0.672164</td>\n",
       "      <td>0.000914</td>\n",
       "    </tr>\n",
       "    <tr>\n",
       "      <th>2</th>\n",
       "      <td>R2</td>\n",
       "      <td>0.296402</td>\n",
       "      <td>0.006358</td>\n",
       "    </tr>\n",
       "  </tbody>\n",
       "</table>\n",
       "</div>"
      ],
      "text/plain": [
       "  Metric      Mean  Variance\n",
       "0    MSE  0.452719  0.001627\n",
       "1   RMSE  0.672164  0.000914\n",
       "2     R2  0.296402  0.006358"
      ]
     },
     "execution_count": 16,
     "metadata": {},
     "output_type": "execute_result"
    }
   ],
   "source": [
    "from sklearn.linear_model import LinearRegression\n",
    "from sklearn.metrics import mean_squared_error, r2_score\n",
    "import numpy as np\n",
    "import pandas as pd\n",
    "\n",
    "# Initialize the model\n",
    "lin_reg = LinearRegression()\n",
    "\n",
    "# Store results\n",
    "mse_list, rmse_list, r2_list = [], [], []\n",
    "\n",
    "# Perform K-Fold Cross-Validation\n",
    "for fold, (train_index, test_index) in enumerate(kf.split(X)):\n",
    "    X_train, X_test = X_poly[train_index], X_poly[test_index]\n",
    "    y_train, y_test = y[train_index], y[test_index]\n",
    "\n",
    "    lin_reg.fit(X_train, y_train)\n",
    "    y_pred = lin_reg.predict(X_test)\n",
    "\n",
    "    mse = mean_squared_error(y_test, y_pred)\n",
    "    rmse = np.sqrt(mse)\n",
    "    r2 = r2_score(y_test, y_pred)\n",
    "\n",
    "    mse_list.append(mse)\n",
    "    rmse_list.append(rmse)\n",
    "    r2_list.append(r2)\n",
    "\n",
    "    print(f\"Fold {fold+1}: R2 = {r2:.4f}, MSE = {mse:.4f}, RMSE = {rmse:.4f}\")\n",
    "\n",
    "# Aggregate results and save to CSV\n",
    "results = pd.DataFrame({\n",
    "    \"Metric\": [\"MSE\", \"RMSE\", \"R2\"],\n",
    "    \"Mean\": [np.mean(mse_list), np.mean(rmse_list), np.mean(r2_list)],\n",
    "    \"Variance\": [np.var(mse_list), np.var(rmse_list), np.var(r2_list)]\n",
    "})\n",
    "results.to_csv(\"../reports/tables/cross_validation_results.csv\", index=False)\n",
    "\n",
    "print(\"\\nCross-validation results (aggregated):\")\n",
    "results"
   ]
  },
  {
   "cell_type": "markdown",
   "id": "7152cad0",
   "metadata": {},
   "source": [
    "## Regularization\n",
    "\n"
   ]
  },
  {
   "cell_type": "markdown",
   "id": "3f64c257",
   "metadata": {},
   "source": [
    "## A Non-Linear Model\n",
    "\n"
   ]
  }
 ],
 "metadata": {
  "kernelspec": {
   "display_name": ".venv (3.13.7)",
   "language": "python",
   "name": "python3"
  },
  "language_info": {
   "codemirror_mode": {
    "name": "ipython",
    "version": 3
   },
   "file_extension": ".py",
   "mimetype": "text/x-python",
   "name": "python",
   "nbconvert_exporter": "python",
   "pygments_lexer": "ipython3",
   "version": "3.13.7"
  }
 },
 "nbformat": 4,
 "nbformat_minor": 5
}
