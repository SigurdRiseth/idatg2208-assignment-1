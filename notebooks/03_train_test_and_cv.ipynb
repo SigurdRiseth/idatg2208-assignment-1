{
 "cells": [
  {
   "cell_type": "markdown",
   "id": "a2a640b5",
   "metadata": {},
   "source": [
    "Split the dataset into training (80%) and test (20%) sets in 5 different folds. Train the simple linear regression model (using gradient descent) for each split on the train-test data in each fold. Evaluate the model on the test set in each fold using:\n",
    "\n",
    "- Mean Squared Error (MSE)\n",
    "- Root Mean Squared Error (RMSE)\n",
    "- R2 score"
   ]
  }
 ],
 "metadata": {
  "language_info": {
   "name": "python"
  }
 },
 "nbformat": 4,
 "nbformat_minor": 5
}
