{
 "cells": [
  {
   "cell_type": "markdown",
   "id": "f678f6f6",
   "metadata": {},
   "source": [
    "# Simple Regression\n",
    "\n",
    "First we load the data"
   ]
  },
  {
   "cell_type": "code",
   "execution_count": 8,
   "id": "fa1c1528",
   "metadata": {},
   "outputs": [],
   "source": [
    "import pandas as pd\n",
    "\n",
    "# Load the dataset\n",
    "df = pd.read_pickle(\"../data/winequality.pkl\")"
   ]
  },
  {
   "cell_type": "code",
   "execution_count": 9,
   "id": "1295bc26",
   "metadata": {},
   "outputs": [],
   "source": [
    "import numpy as np\n",
    "\n",
    "def gradient_descent(X, y, learning_rate=0.01, n_iterations=1000):\n",
    "    m = len(y)\n",
    "    theta = np.zeros(X.shape[1])\n",
    "    for _ in range(n_iterations):\n",
    "        gradients = 2/m * X.T.dot(X.dot(theta) - y)\n",
    "        theta -= learning_rate * gradients\n",
    "    return theta"
   ]
  },
  {
   "cell_type": "code",
   "execution_count": 10,
   "id": "b08278de",
   "metadata": {},
   "outputs": [
    {
     "ename": "ValueError",
     "evalue": "operands could not be broadcast together with shapes (2,) (2,1143) (2,) ",
     "output_type": "error",
     "traceback": [
      "\u001b[0;31m---------------------------------------------------------------------------\u001b[0m",
      "\u001b[0;31mValueError\u001b[0m                                Traceback (most recent call last)",
      "Cell \u001b[0;32mIn[10], line 11\u001b[0m\n\u001b[1;32m      7\u001b[0m \u001b[38;5;66;03m# Add bias term (column of ones) for intercept\u001b[39;00m\n\u001b[1;32m      8\u001b[0m X_b \u001b[38;5;241m=\u001b[39m np\u001b[38;5;241m.\u001b[39mhstack([np\u001b[38;5;241m.\u001b[39mones((m, \u001b[38;5;241m1\u001b[39m)), X])  \u001b[38;5;66;03m# shape (m, 2)\u001b[39;00m\n\u001b[0;32m---> 11\u001b[0m theta \u001b[38;5;241m=\u001b[39m \u001b[43mgradient_descent\u001b[49m\u001b[43m(\u001b[49m\u001b[43mX_b\u001b[49m\u001b[43m,\u001b[49m\u001b[43m \u001b[49m\u001b[43my\u001b[49m\u001b[43m)\u001b[49m\n\u001b[1;32m     13\u001b[0m \u001b[38;5;28mprint\u001b[39m(\u001b[38;5;124m\"\u001b[39m\u001b[38;5;124mTheta (intercept, slope):\u001b[39m\u001b[38;5;124m\"\u001b[39m)\n\u001b[1;32m     14\u001b[0m \u001b[38;5;28mprint\u001b[39m(theta)\n",
      "Cell \u001b[0;32mIn[9], line 8\u001b[0m, in \u001b[0;36mgradient_descent\u001b[0;34m(X, y, learning_rate, n_iterations)\u001b[0m\n\u001b[1;32m      6\u001b[0m \u001b[38;5;28;01mfor\u001b[39;00m _ \u001b[38;5;129;01min\u001b[39;00m \u001b[38;5;28mrange\u001b[39m(n_iterations):\n\u001b[1;32m      7\u001b[0m     gradients \u001b[38;5;241m=\u001b[39m \u001b[38;5;241m2\u001b[39m\u001b[38;5;241m/\u001b[39mm \u001b[38;5;241m*\u001b[39m X\u001b[38;5;241m.\u001b[39mT\u001b[38;5;241m.\u001b[39mdot(X\u001b[38;5;241m.\u001b[39mdot(theta) \u001b[38;5;241m-\u001b[39m y)\n\u001b[0;32m----> 8\u001b[0m     theta \u001b[38;5;241m-\u001b[39m\u001b[38;5;241m=\u001b[39m learning_rate \u001b[38;5;241m*\u001b[39m gradients\n\u001b[1;32m      9\u001b[0m \u001b[38;5;28;01mreturn\u001b[39;00m theta\n",
      "\u001b[0;31mValueError\u001b[0m: operands could not be broadcast together with shapes (2,) (2,1143) (2,) "
     ]
    }
   ],
   "source": [
    "# X = chlorides, y = quality\n",
    "X = df['chlorides'].values.reshape(-1, 1)\n",
    "y = df['quality'].values.reshape(-1, 1)\n",
    "\n",
    "m = len(y)\n",
    "\n",
    "# Add bias term (column of ones) for intercept\n",
    "X_b = np.hstack([np.ones((m, 1)), X])  # shape (m, 2)\n",
    "\n",
    "\n",
    "theta = gradient_descent(X_b, y)\n",
    "\n",
    "print(\"Theta (intercept, slope):\")\n",
    "print(theta)"
   ]
  },
  {
   "cell_type": "code",
   "execution_count": null,
   "id": "527be9c4",
   "metadata": {},
   "outputs": [],
   "source": [
    "# X = alcohol, y = quality\n",
    "X = df['alcohol'].values.reshape(-1, 1)\n",
    "y = df['quality'].values.reshape(-1, 1)\n",
    "\n",
    "m = len(y)\n",
    "\n",
    "# Add bias term (column of ones) for intercept\n",
    "X_b = np.hstack([np.ones((m, 1)), X])  # shape (m, 2)\n",
    "\n",
    "theta = gradient_descent(X_b, y.flatten(), learning_rate=0.001)\n",
    "\n",
    "print(\"Theta (intercept, slope):\")\n",
    "print(theta)"
   ]
  }
 ],
 "metadata": {
  "kernelspec": {
   "display_name": "Python 3",
   "language": "python",
   "name": "python3"
  },
  "language_info": {
   "codemirror_mode": {
    "name": "ipython",
    "version": 3
   },
   "file_extension": ".py",
   "mimetype": "text/x-python",
   "name": "python",
   "nbconvert_exporter": "python",
   "pygments_lexer": "ipython3",
   "version": "3.10.7"
  }
 },
 "nbformat": 4,
 "nbformat_minor": 5
}
